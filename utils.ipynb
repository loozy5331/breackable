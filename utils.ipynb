{
 "cells": [
  {
   "cell_type": "code",
   "execution_count": 14,
   "metadata": {},
   "outputs": [],
   "source": [
    "import xml.etree.ElementTree as ET\n",
    "from PIL import Image, ImageFilter"
   ]
  },
  {
   "cell_type": "code",
   "execution_count": 10,
   "metadata": {},
   "outputs": [
    {
     "data": {
      "text/plain": [
       "'스크린샷, 2019-01-02 10-06-11.jpg'"
      ]
     },
     "execution_count": 10,
     "metadata": {},
     "output_type": "execute_result"
    }
   ],
   "source": [
    "file_name = \"orginal_images/스크린샷, 2019-01-02 10-06-11.xml\"\n",
    "doc = ET.parse(file_name)\n",
    "root = doc.getroot()\n",
    "root.find('filename').text"
   ]
  },
  {
   "cell_type": "code",
   "execution_count": 11,
   "metadata": {},
   "outputs": [
    {
     "name": "stdout",
     "output_type": "stream",
     "text": [
      "/home/lee/바탕화면/models/research/object_detection/images/train/스크린샷, 2019-01-02 10-06-11.jpg\n",
      "/home/lee/바탕화면/models/research/object_detection/images/train/스크린샷, 2019-01-02 10-06-11_gb.jpg\n"
     ]
    }
   ],
   "source": [
    "print(root.find('path').text)\n",
    "root.find('path').text = root.find('path').text.split(\".\")[0] +\"_gb.jpg\"\n",
    "print(root.find('path').text)"
   ]
  },
  {
   "cell_type": "code",
   "execution_count": 13,
   "metadata": {
    "scrolled": true
   },
   "outputs": [
    {
     "name": "stdout",
     "output_type": "stream",
     "text": [
      "<annotation>\n",
      "\t<folder>train</folder>\n",
      "\t<filename>스크린샷, 2019-01-02 10-06-11.jpg</filename>\n",
      "\t<path>/home/lee/바탕화면/models/research/object_detection/images/train/스크린샷, 2019-01-02 10-06-11_gb.jpg</path>\n",
      "\t<source>\n",
      "\t\t<database>Unknown</database>\n",
      "\t</source>\n",
      "\t<size>\n",
      "\t\t<width>1920</width>\n",
      "\t\t<height>1080</height>\n",
      "\t\t<depth>3</depth>\n",
      "\t</size>\n",
      "\t<segmented>0</segmented>\n",
      "\t<object>\n",
      "\t\t<name>menu</name>\n",
      "\t\t<pose>Unspecified</pose>\n",
      "\t\t<truncated>0</truncated>\n",
      "\t\t<difficult>0</difficult>\n",
      "\t\t<bndbox>\n",
      "\t\t\t<xmin>14</xmin>\n",
      "\t\t\t<ymin>109</ymin>\n",
      "\t\t\t<xmax>1517</xmax>\n",
      "\t\t\t<ymax>218</ymax>\n",
      "\t\t</bndbox>\n",
      "\t</object>\n",
      "\t<object>\n",
      "\t\t<name>title</name>\n",
      "\t\t<pose>Unspecified</pose>\n",
      "\t\t<truncated>0</truncated>\n",
      "\t\t<difficult>0</difficult>\n",
      "\t\t<bndbox>\n",
      "\t\t\t<xmin>37</xmin>\n",
      "\t\t\t<ymin>238</ymin>\n",
      "\t\t\t<xmax>1488</xmax>\n",
      "\t\t\t<ymax>286</ymax>\n",
      "\t\t</bndbox>\n",
      "\t</object>\n",
      "\t<object>\n",
      "\t\t<name>contents1</name>\n",
      "\t\t<pose>Unspecified</pose>\n",
      "\t\t<truncated>0</truncated>\n",
      "\t\t<difficult>0</difficult>\n",
      "\t\t<bndbox>\n",
      "\t\t\t<xmin>37</xmin>\n",
      "\t\t\t<ymin>295</ymin>\n",
      "\t\t\t<xmax>1482</xmax>\n",
      "\t\t\t<ymax>422</ymax>\n",
      "\t\t</bndbox>\n",
      "\t</object>\n",
      "\t<object>\n",
      "\t\t<name>contents2</name>\n",
      "\t\t<pose>Unspecified</pose>\n",
      "\t\t<truncated>0</truncated>\n",
      "\t\t<difficult>0</difficult>\n",
      "\t\t<bndbox>\n",
      "\t\t\t<xmin>41</xmin>\n",
      "\t\t\t<ymin>444</ymin>\n",
      "\t\t\t<xmax>1487</xmax>\n",
      "\t\t\t<ymax>628</ymax>\n",
      "\t\t</bndbox>\n",
      "\t</object>\n",
      "\t<object>\n",
      "\t\t<name>page_control</name>\n",
      "\t\t<pose>Unspecified</pose>\n",
      "\t\t<truncated>0</truncated>\n",
      "\t\t<difficult>0</difficult>\n",
      "\t\t<bndbox>\n",
      "\t\t\t<xmin>661</xmin>\n",
      "\t\t\t<ymin>643</ymin>\n",
      "\t\t\t<xmax>879</xmax>\n",
      "\t\t\t<ymax>699</ymax>\n",
      "\t\t</bndbox>\n",
      "\t</object>\n",
      "</annotation>\n"
     ]
    }
   ],
   "source": [
    "ET.dump(root)\n",
    "doc.write(\"orginal_images/output.xml\", encoding='utf-8', xml_declaration=True)"
   ]
  },
  {
   "cell_type": "code",
   "execution_count": 59,
   "metadata": {},
   "outputs": [],
   "source": [
    "image = Image.open(\"orginal_images/스크린샷, 2019-01-02 10-06-11.jpg\")\n",
    "im1 = image.filter(ImageFilter.BoxBlur(2))\n",
    "im2 = image.filter(ImageFilter.UnsharpMask(2))\n",
    "im3 = image.filter(ImageFilter.Kernel((3, 3), [0.0001*i for i in range(9)]))\n",
    "im4 = image.filter(ImageFilter.MinFilter())\n",
    "im5 = image.filter(ImageFilter.ModeFilter(2))"
   ]
  },
  {
   "cell_type": "code",
   "execution_count": 60,
   "metadata": {},
   "outputs": [],
   "source": [
    "im5.show()"
   ]
  },
  {
   "cell_type": "code",
   "execution_count": null,
   "metadata": {},
   "outputs": [],
   "source": []
  }
 ],
 "metadata": {
  "kernelspec": {
   "display_name": "Python 3",
   "language": "python",
   "name": "python3"
  },
  "language_info": {
   "codemirror_mode": {
    "name": "ipython",
    "version": 3
   },
   "file_extension": ".py",
   "mimetype": "text/x-python",
   "name": "python",
   "nbconvert_exporter": "python",
   "pygments_lexer": "ipython3",
   "version": "3.6.8"
  }
 },
 "nbformat": 4,
 "nbformat_minor": 2
}
